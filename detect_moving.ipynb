{
 "metadata": {
  "language_info": {
   "codemirror_mode": {
    "name": "ipython",
    "version": 3
   },
   "file_extension": ".py",
   "mimetype": "text/x-python",
   "name": "python",
   "nbconvert_exporter": "python",
   "pygments_lexer": "ipython3",
   "version": "3.7.2-final"
  },
  "orig_nbformat": 2,
  "kernelspec": {
   "name": "python3",
   "display_name": "Python 3.7.2 64-bit",
   "metadata": {
    "interpreter": {
     "hash": "69a7ec1f19fe8e6b4d60bff3a060a39e42b8b78906aa04442e53246e4bcaf9b9"
    }
   }
  }
 },
 "nbformat": 4,
 "nbformat_minor": 2,
 "cells": [
  {
   "source": [
    "Detects moving oject in Video with Python\n",
    "To do this task, you prepare the following knowledge:\n",
    "+ Knowledge image processing (Example: median fliter , gaussian blur , smoth and dilate , erosion).\n",
    "+ Algothrims background substraction (forceground and background).\n",
    "+ How to read, write file video with opencv and python 3.7.\n",
    "+ How to use function determine contour with oject.\n",
    "+ How to draw rectangle to detects moving object.\n",
    "    "
   ],
   "cell_type": "markdown",
   "metadata": {}
  },
  {
   "source": [
    "IMPORT LIBRARY"
   ],
   "cell_type": "markdown",
   "metadata": {}
  },
  {
   "cell_type": "code",
   "execution_count": 25,
   "metadata": {},
   "outputs": [],
   "source": [
    "import numpy as mp\n",
    "import cv2\n",
    "from matplotlib import pyplot as plt"
   ]
  },
  {
   "source": [
    "Convert image three-channels (Blue,Green,Gray) -> one channel (Gray)                                                                                   \n",
    "Some formulas to calculate: gray = 0.299 R + 0.587 G + 0.114 B"
   ],
   "cell_type": "markdown",
   "metadata": {}
  },
  {
   "cell_type": "code",
   "execution_count": 26,
   "metadata": {},
   "outputs": [],
   "source": [
    "def cvt_GRAY(img):\n",
    "    return cv2.cvtColor(img, cv2.COLOR_BGR2GRAY)"
   ]
  },
  {
   "source": [
    "Check video\n",
    "\n",
    "+ If video not opened , return 'File video is error'\n",
    "+ Else video is avaliable"
   ],
   "cell_type": "markdown",
   "metadata": {}
  },
  {
   "cell_type": "code",
   "execution_count": 27,
   "metadata": {},
   "outputs": [],
   "source": [
    "# Check error video.\n",
    "def check_video(cap):\n",
    "    if cap.isOpened() == False:\n",
    "        print('File video is error')"
   ]
  },
  {
   "source": [
    "Show everyone forceground because image not oject."
   ],
   "cell_type": "markdown",
   "metadata": {}
  },
  {
   "cell_type": "code",
   "execution_count": null,
   "metadata": {},
   "outputs": [],
   "source": [
    "def first_piture(frame):\n",
    "    plt.imshow(frame)"
   ]
  },
  {
   "source": [
    "Read file video"
   ],
   "cell_type": "markdown",
   "metadata": {}
  },
  {
   "cell_type": "code",
   "execution_count": 28,
   "metadata": {},
   "outputs": [],
   "source": [
    "def read_video(cap, first_piture):\n",
    "    while(cap.isOpened()):\n",
    "        ret, frame = cap.read()\n",
    "        # ret is return true if frame is avaliable.\n",
    "        # Display frame.\n",
    "        if ret == True:\n",
    "            if first_piture == False:\n",
    "                first_piture(frame)\n",
    "                force = cvt_GRAY(frame)\n",
    "            fgmk = fgbg.apply(frame)\n",
    "            fgmk = cv2.medianBlur(fgmk , 5)\n",
    "            contours , _ = cv2.findContours(fgmk, cv2.RETR_TREE, cv2.CHAIN_APPROX_SIMPLE)\n",
    "            for contour in contours:\n",
    "                x,y,w,h = cv2.boundingRect(contour)\n",
    "                if cv2.contourArea(contour) < 1000:\n",
    "                    continue\n",
    "                cv2.rectangle(frame,(x,y), (x+w,y+h),(0,255,0), 2)\n",
    "            cv2.imshow('video', frame)\n",
    "            if cv2.waitKey(30) & 0xFF == ord('q'):\n",
    "                break\n",
    "        else:\n",
    "            break"
   ]
  },
  {
   "source": [
    "Function main."
   ],
   "cell_type": "markdown",
   "metadata": {}
  },
  {
   "cell_type": "code",
   "execution_count": 29,
   "metadata": {},
   "outputs": [],
   "source": [
    "if __name__ == '__main__':\n",
    "    first_picture = False\n",
    "    # Create a VideoCapture object and read from input file.\n",
    "    # If the input is the camera , argument = 0 instead of video file name.\n",
    "    cap = cv2.VideoCapture(\"C:/Users/Administrator/Downloads/Video/11.mp4\")\n",
    "    fgbg = cv2.bgsegm.createBackgroundSubtractorMOG()\n",
    "    # Check if video open successfull.\n",
    "    check_video(cap)\n",
    "    # Read video until complete.\n",
    "    read_video(cap, first_picture)"
   ]
  },
  {
   "cell_type": "code",
   "execution_count": null,
   "metadata": {},
   "outputs": [],
   "source": []
  }
 ]
}